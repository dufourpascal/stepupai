{
  "nbformat": 4,
  "nbformat_minor": 0,
  "metadata": {
    "colab": {
      "name": "custom-data-augmentation-keras-final.ipynb",
      "provenance": [],
      "collapsed_sections": [],
      "authorship_tag": "ABX9TyO2P9juzXnYo1vQ8ze3CIEd",
      "include_colab_link": true
    },
    "kernelspec": {
      "name": "python3",
      "display_name": "Python 3"
    }
  },
  "cells": [
    {
      "cell_type": "markdown",
      "metadata": {
        "id": "view-in-github",
        "colab_type": "text"
      },
      "source": [
        "<a href=\"https://colab.research.google.com/github/dufourpascal/stepupai/blob/master/tutorials/data_augmentation/custom_data_augmentation_keras.ipynb\" target=\"_parent\"><img src=\"https://colab.research.google.com/assets/colab-badge.svg\" alt=\"Open In Colab\"/></a>"
      ]
    },
    {
      "cell_type": "markdown",
      "metadata": {
        "id": "6tGkoDfjXPK_",
        "colab_type": "text"
      },
      "source": [
        "# Custom Data Augmentation Function in Keras\n",
        "Follow along on the blog: https://stepup.ai/custom_data_augmentation_keras.\n",
        "\n",
        "In this tutorial we are going to implement our own preprocessing function for data augmentation in Keras. In particular, we will add a method that slightly changes the colors in an image by scaling the RGB channels independently\n",
        "\n",
        "\n",
        "Let's start by importing everything we need and downloading a sample image."
      ]
    },
    {
      "cell_type": "code",
      "metadata": {
        "id": "VHKrjEybXNuP",
        "colab_type": "code",
        "colab": {}
      },
      "source": [
        "import numpy as np\n",
        "import tensorflow as tf\n",
        "from tensorflow.keras.preprocessing.image import load_img, img_to_array\n",
        "from tensorflow.keras.preprocessing.image import ImageDataGenerator\n",
        "import matplotlib.pyplot as plt\n",
        "import requests\n",
        "import random"
      ],
      "execution_count": 1,
      "outputs": []
    },
    {
      "cell_type": "code",
      "metadata": {
        "id": "QKaxSj1MXZoM",
        "colab_type": "code",
        "colab": {}
      },
      "source": [
        "url = 'https://github.com/dufourpascal/stepupai/raw/master/tutorials/data_augmentation/image_town.jpg'\n",
        "r = requests.get(url, allow_redirects=True)\n",
        "open('image.jpg', 'wb').write(r.content)\n",
        "\n",
        "image = load_img('image.jpg')\n",
        "image = img_to_array(image).astype(int)\n",
        "data = np.expand_dims(image, 0)\n",
        "plt.axis('off')\n",
        "plt.imshow(data[0])"
      ],
      "execution_count": null,
      "outputs": []
    },
    {
      "cell_type": "markdown",
      "metadata": {
        "id": "jXuHLZt495il",
        "colab_type": "text"
      },
      "source": [
        "Next we define a helper function to plot the augmented images."
      ]
    },
    {
      "cell_type": "code",
      "metadata": {
        "id": "yHgc4zb4YqKJ",
        "colab_type": "code",
        "colab": {}
      },
      "source": [
        "def plot_augmentation(datagen, data, n_rows=1, n_cols=5):\n",
        "  n_images = n_rows * n_cols\n",
        "  gen_flow = datagen.flow(data)\n",
        "\n",
        "  aspect_ratio = data.shape[1] / data.shape[2]\n",
        "  base_size = 2\n",
        "  fig_size = (n_cols*base_size/aspect_ratio, n_rows*base_size)\n",
        "  fig = plt.figure(figsize=fig_size)\n",
        "\n",
        "  for image_index in range(n_images):\n",
        "    image = next(gen_flow)\n",
        "    plt.subplot(n_rows, n_cols, image_index+1)\n",
        "    plt.axis('off')\n",
        "    plt.imshow(image[0], vmin=0, vmax=255)\n",
        "  fig.tight_layout(pad=0.0)"
      ],
      "execution_count": 3,
      "outputs": []
    },
    {
      "cell_type": "markdown",
      "metadata": {
        "id": "IKYWpSCb_2KM",
        "colab_type": "text"
      },
      "source": [
        "Now we're ready to implement our own preprocessing function. Complete the code below by following on the blog post."
      ]
    },
    {
      "cell_type": "code",
      "metadata": {
        "id": "FrwaOAwDXpg7",
        "colab_type": "code",
        "colab": {}
      },
      "source": [
        "class CustomDataGenerator(ImageDataGenerator):\n",
        "  def __init__(self,\n",
        "               red_range=None,\n",
        "               green_range=None,\n",
        "               blue_range=None,\n",
        "               **kwargs):\n",
        "    '''\n",
        "    Custom image data generator.\n",
        "    Behaves like ImageDataGenerator, but allows color augmentation.\n",
        "    '''\n",
        "\n",
        "    # TODO: IMPLEMENT\n",
        "\n",
        "    \n",
        "\n",
        "  def augment_color(self, image):\n",
        "    '''Takes an input image and returns a modified version of it'''\n",
        "\n",
        "    # TODO: IMPLEMENT\n",
        "\n",
        "    return image"
      ],
      "execution_count": 4,
      "outputs": []
    },
    {
      "cell_type": "markdown",
      "metadata": {
        "id": "ohbwTootB1Gq",
        "colab_type": "text"
      },
      "source": [
        "Execute the code blow to see the results of the color data augmentation.\n",
        "Note that you can set additional augmentation parameters such as `brightness_range` in combination to our own color ranges!\n",
        "\n",
        "Also experiment with the ranges for each color channel to get a feeling for good values."
      ]
    },
    {
      "cell_type": "code",
      "metadata": {
        "id": "3zK0VRXBAipo",
        "colab_type": "code",
        "colab": {}
      },
      "source": [
        "datagen = CustomDataGenerator(red_range=(0.8, 1.2),\n",
        "                              green_range=(0.8, 1.2),\n",
        "                              blue_range=(0.8, 1.2),\n",
        "                              brightness_range=(0.5, 1.5),\n",
        "                              dtype=int)\n",
        "datagen.fit(data)\n",
        "plot_augmentation(datagen, data, n_rows=2, n_cols=6)"
      ],
      "execution_count": null,
      "outputs": []
    }
  ]
}