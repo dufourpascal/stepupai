{
  "nbformat": 4,
  "nbformat_minor": 0,
  "metadata": {
    "colab": {
      "name": "exploring_data_augmentation_keras_final.ipynb",
      "provenance": [],
      "collapsed_sections": [],
      "authorship_tag": "ABX9TyNkuY1+oEGsOHm9Ba7PzRXF",
      "include_colab_link": true
    },
    "kernelspec": {
      "name": "python3",
      "display_name": "Python 3"
    }
  },
  "cells": [
    {
      "cell_type": "markdown",
      "metadata": {
        "id": "view-in-github",
        "colab_type": "text"
      },
      "source": [
        "<a href=\"https://colab.research.google.com/github/dufourpascal/stepupai/blob/master/tutorials/data_augmentation/exploring_data_augmentation_keras.ipynb\" target=\"_parent\"><img src=\"https://colab.research.google.com/assets/colab-badge.svg\" alt=\"Open In Colab\"/></a>"
      ]
    },
    {
      "cell_type": "markdown",
      "metadata": {
        "id": "2KpA-QvpPCqi",
        "colab_type": "text"
      },
      "source": [
        "# Image Data Augmentation with Keras and Tensorflow\n",
        "In this tutorial, we are going to explore data augmentation with Keras. Follow allong on [stepup.ai/exploring-data-augmentation-keras](https://stepup.ai/exploring-data-augmentation-keras)."
      ]
    },
    {
      "cell_type": "markdown",
      "metadata": {
        "id": "-2Rt3AqBSL9X",
        "colab_type": "text"
      },
      "source": [
        "Let's start off by importing what we need from tensorflow and keras, and defining a few helper functions."
      ]
    },
    {
      "cell_type": "code",
      "metadata": {
        "id": "1EzmxfVlgDaA",
        "colab_type": "code",
        "colab": {}
      },
      "source": [
        "import numpy as np\n",
        "import tensorflow as tf\n",
        "from tensorflow.keras.preprocessing.image import load_img, img_to_array\n",
        "from tensorflow.keras.preprocessing.image import ImageDataGenerator\n",
        "import matplotlib.pyplot as plt\n",
        "import requests"
      ],
      "execution_count": 1,
      "outputs": []
    },
    {
      "cell_type": "code",
      "metadata": {
        "id": "wAMif0fwgZxH",
        "colab_type": "code",
        "colab": {}
      },
      "source": [
        "# Get our sample image and write it to disk\n",
        "url = 'https://github.com/dufourpascal/stepupai/raw/master/tutorials/data_augmentation/image.jpg'\n",
        "r = requests.get(url, allow_redirects=True)\n",
        "open('image.jpg', 'wb').write(r.content)\n",
        "\n",
        "# Transform the image into a tensor and display it\n",
        "image = load_img('image.jpg')\n",
        "image = img_to_array(image).astype(int)\n",
        "data = np.expand_dims(image, 0)\n",
        "plt.axis('off')\n",
        "plt.imshow(data[0])"
      ],
      "execution_count": null,
      "outputs": []
    },
    {
      "cell_type": "code",
      "metadata": {
        "id": "td3LBxZb6dKr",
        "colab_type": "code",
        "colab": {}
      },
      "source": [
        "def default_datagen():\n",
        "  '''Returns a default ImageDataGenerator without any transformation enabled.'''\n",
        "  datagen = ImageDataGenerator( fill_mode='constant', dtype=int)\n",
        "  datagen.fit(data)\n",
        "  return datagen"
      ],
      "execution_count": 3,
      "outputs": []
    },
    {
      "cell_type": "markdown",
      "metadata": {
        "id": "G0_IaVEDUca7",
        "colab_type": "text"
      },
      "source": [
        "Let's create a simple helper function for plotting.\n",
        "This function takes an `ImageDataGenerator` object and sample data, and will plot the result of the data augmentation."
      ]
    },
    {
      "cell_type": "code",
      "metadata": {
        "id": "-cOVq-5MhFhC",
        "colab_type": "code",
        "colab": {}
      },
      "source": [
        "def plot_augmentation(datagen, data, n_rows=1, n_cols=5):\n",
        "  '''\n",
        "  Apply data augmentation and plot the results\n",
        "  Accepts an ImageDataGenerator object and example data.\n",
        "  Specify how many rows and columns to show using n_rows and n_cols (default 1, 5)\n",
        "  '''\n",
        "  n_images = n_rows * n_cols\n",
        "  gen_flow = datagen.flow(data)\n",
        "\n",
        "  plt.figure(figsize=(n_cols*4, n_rows*3))\n",
        "  for image_index in range(n_images):\n",
        "    image = next(gen_flow)\n",
        "    # print(image.min(), image.max(), image.dtype)\n",
        "    plt.subplot(n_rows, n_cols, image_index+1)\n",
        "    plt.axis('off')\n",
        "    plt.imshow(image[0], vmin=0, vmax=255)"
      ],
      "execution_count": 4,
      "outputs": []
    },
    {
      "cell_type": "markdown",
      "metadata": {
        "id": "fSm1b5gA6i5d",
        "colab_type": "text"
      },
      "source": [
        "# Visualizing Transformations\n",
        "Now let's visualize the different transformations available in Keras.\n",
        "In each step, we will initialize a default `ImageDataGenerator` object, then set the augmentation parameters we are interested in, and finally visualize the result."
      ]
    },
    {
      "cell_type": "markdown",
      "metadata": {
        "id": "3jAhXN4V5LuA",
        "colab_type": "text"
      },
      "source": [
        "## 1. Image Shift"
      ]
    },
    {
      "cell_type": "code",
      "metadata": {
        "id": "ysAIqdI4g2RS",
        "colab_type": "code",
        "colab": {}
      },
      "source": [
        "datagen = default_datagen()\n",
        "\n",
        "\n",
        "plot_augmentation(datagen, data)"
      ],
      "execution_count": null,
      "outputs": []
    },
    {
      "cell_type": "markdown",
      "metadata": {
        "id": "8BMZ73VuXMij",
        "colab_type": "text"
      },
      "source": [
        "## 2. Flips"
      ]
    },
    {
      "cell_type": "code",
      "metadata": {
        "id": "bd_4q-ZI9wVY",
        "colab_type": "code",
        "colab": {}
      },
      "source": [
        "datagen = default_datagen()\n",
        "\n",
        "\n",
        "plot_augmentation(datagen, data)"
      ],
      "execution_count": null,
      "outputs": []
    },
    {
      "cell_type": "markdown",
      "metadata": {
        "id": "n2G9zAfaYAE2",
        "colab_type": "text"
      },
      "source": [
        "## 3. Rotation"
      ]
    },
    {
      "cell_type": "code",
      "metadata": {
        "id": "qfjTJkHh-D8p",
        "colab_type": "code",
        "colab": {}
      },
      "source": [
        "datagen = default_datagen()\n",
        "\n",
        "plot_augmentation(datagen, data)"
      ],
      "execution_count": null,
      "outputs": []
    },
    {
      "cell_type": "markdown",
      "metadata": {
        "id": "ARNSk3D0BhiM",
        "colab_type": "text"
      },
      "source": [
        "## 4. Zoom"
      ]
    },
    {
      "cell_type": "code",
      "metadata": {
        "id": "Oq3EDO8g_Dq9",
        "colab_type": "code",
        "colab": {}
      },
      "source": [
        "datagen = default_datagen()\n",
        "\n",
        "plot_augmentation(datagen, data)"
      ],
      "execution_count": null,
      "outputs": []
    },
    {
      "cell_type": "markdown",
      "metadata": {
        "id": "3gt3SR9kZ8Av",
        "colab_type": "text"
      },
      "source": [
        "## 5. Shear"
      ]
    },
    {
      "cell_type": "code",
      "metadata": {
        "id": "gFl_7QxgAv31",
        "colab_type": "code",
        "colab": {}
      },
      "source": [
        "datagen = default_datagen()\n",
        "\n",
        "plot_augmentation(datagen, data)"
      ],
      "execution_count": null,
      "outputs": []
    },
    {
      "cell_type": "markdown",
      "metadata": {
        "id": "DJb02CXtavNZ",
        "colab_type": "text"
      },
      "source": [
        "## 6. Brightness"
      ]
    },
    {
      "cell_type": "code",
      "metadata": {
        "id": "LDgXA8zjCHZQ",
        "colab_type": "code",
        "colab": {}
      },
      "source": [
        "datagen = default_datagen()\n",
        "\n",
        "plot_augmentation(datagen, data)"
      ],
      "execution_count": null,
      "outputs": []
    },
    {
      "cell_type": "markdown",
      "metadata": {
        "id": "es-vuvjYbY6e",
        "colab_type": "text"
      },
      "source": [
        "# Combining Multiple Transformations for Data Augmentation"
      ]
    },
    {
      "cell_type": "code",
      "metadata": {
        "id": "O0lR-ru_bYYF",
        "colab_type": "code",
        "colab": {}
      },
      "source": [
        "datagen = default_datagen()\n",
        "\n",
        "\n",
        "\n",
        "plot_augmentation(datagen, data, n_rows=3, n_cols=5)"
      ],
      "execution_count": null,
      "outputs": []
    },
    {
      "cell_type": "markdown",
      "metadata": {
        "id": "ZNViHMENdDQJ",
        "colab_type": "text"
      },
      "source": [
        ""
      ]
    }
  ]
}